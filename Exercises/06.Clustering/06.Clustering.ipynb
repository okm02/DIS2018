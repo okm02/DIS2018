{
 "cells": [
  {
   "cell_type": "markdown",
   "metadata": {},
   "source": [
    "# Exercise 5\n",
    "\n",
    "In this exercise, we will put in practice a popular clustering technique: k-means.\n",
    "\n",
    "Remember that k-means is a two steps process. After initialization:  \n",
    "1) assign each point to its closest cluster  \n",
    "2) move each cluster to the average position of the points assigned to it  \n",
    "\n",
    "Note that K-means requires you to specify the desired number of clusters k, which should be, in practice, determined from an apriori knowledge about the data or via cross-validation (not covered in this homework)."
   ]
  },
  {
   "cell_type": "code",
   "execution_count": 22,
   "metadata": {},
   "outputs": [],
   "source": [
    "import pandas as pd\n",
    "import numpy as np\n",
    "import matplotlib.pyplot as plt\n",
    "import random\n",
    "from sklearn import preprocessing\n",
    "from sklearn.datasets import make_blobs\n",
    "\n",
    "np.random.seed(42)\n",
    "\n",
    "%matplotlib inline"
   ]
  },
  {
   "cell_type": "markdown",
   "metadata": {},
   "source": [
    "### TODO\n",
    "\n",
    "Complete the two methods `assign_points` and `compute_centroids` below. Specifically:  \n",
    "\n",
    "*  `assign_points(X, centroids)` assigns each data points in X to its closest centroid (in terms of Euclidean distance). The output is a list of indices, where each index is in the range [0,...,K-1], K being the number of clusters.\n",
    "*  `compute_centroids(X, labels, num_clusters)` re-compute the position of each centroid. The new position of a centroid is computed as the mean of the data points that are assigned to it (recall that assignement is represented by the `labels` array).\n"
   ]
  },
  {
   "cell_type": "code",
   "execution_count": 59,
   "metadata": {},
   "outputs": [],
   "source": [
    "\"\"\"\n",
    "Generate random 2D data points\n",
    "\"\"\"\n",
    "def gen_data(num_samples,num_blobs=3,random_state=42):\n",
    "    X, y = make_blobs(n_samples=num_samples, random_state=random_state, centers=num_blobs, cluster_std=5.0)\n",
    "    return X,y\n",
    "\n",
    "\"\"\"\n",
    "Compute euclidean distance between a point and a centroid.\n",
    "point,centroid: 1D Numpy array containing coordinates [x,y]\n",
    "\"\"\"\n",
    "def euclidean_distance(point, centroid):\n",
    "    return np.sqrt(np.sum((point - centroid)**2))\n",
    "\n",
    "def init_centroids(X,num_clusters):\n",
    "    rand_indices = np.random.choice(X.shape[0], num_clusters,replace=False)\n",
    "    return X[rand_indices,:]\n",
    "\n",
    "\"\"\"\n",
    "Assign objects to their closest cluster center according to the Euclidean distance function.\n",
    "\"\"\"\n",
    "def assign_points(X, centroids):\n",
    "   \n",
    "    labels = []\n",
    "    for point in range(0, X.shape[0]):\n",
    "        \n",
    "        min_distance = euclidean_distance(X[point],centroids[0])\n",
    "        label = 0\n",
    "        for i in range(1,len(centroids)):\n",
    "            temp_dist = euclidean_distance(X[point],centroids[i])\n",
    "            if temp_dist < min_distance:\n",
    "                label = i\n",
    "                min_distance = temp_dist\n",
    "        labels.append(label)\n",
    "        \n",
    "    \n",
    "    return np.array(labels)\n",
    "\n",
    "\"\"\"\n",
    "Update the position of a centroid according to the average position of the points\n",
    "of that cluster.\n",
    "\"\"\"\n",
    "def compute_centroids(X, labels, num_clusters):\n",
    "   \n",
    "    centroids = np.zeros((num_clusters,2))\n",
    "    for i in range(num_clusters):\n",
    "        count = 1\n",
    "        for j in range(0, X.shape[0]):\n",
    "            if labels[j] == i:\n",
    "                centroids[i] = centroids[i] + X[j]\n",
    "                count = count + 1\n",
    "        centroids[i] = centroids[i] / count\n",
    "    \n",
    "    return centroids\n",
    "\n",
    "\"\"\"\n",
    "Runs one instance of k-means\n",
    "X:            input data of shape Mx2, M the number of examples\n",
    "num_clusters: number of clusters to compute\n",
    "\"\"\"\n",
    "def k_means(X, num_clusters):\n",
    "\n",
    "    # Initialize centroids to randomly chosen data points\n",
    "    centroids  = init_centroids(X,num_clusters)\n",
    "\n",
    "    # Bookkeeping\n",
    "    num_iter  = 0\n",
    "    positions = [centroids]\n",
    "    \n",
    "    \n",
    "    while True:\n",
    "        \n",
    "        labels = assign_points(X, centroids)\n",
    "        \n",
    "        new_centroids = compute_centroids(X, labels, num_clusters)\n",
    "        # Termination criterion\n",
    "        if np.all(centroids == new_centroids):\n",
    "            break\n",
    "          \n",
    "        num_iter = num_iter + 1\n",
    "        centroids = new_centroids\n",
    "        positions.append(centroids)\n",
    "        \n",
    "    return [labels, centroids, num_iter, positions]"
   ]
  },
  {
   "cell_type": "code",
   "execution_count": 60,
   "metadata": {},
   "outputs": [
    {
     "name": "stdout",
     "output_type": "stream",
     "text": [
      "Convergence in 16 iteration(s)\n"
     ]
    }
   ],
   "source": [
    "num_samples = 150\n",
    "num_blobs   = 3\n",
    "X,y = gen_data(num_samples,num_blobs=num_blobs)\n",
    "\n",
    "total_iterations = 10\n",
    "num_clusters     = 3\n",
    "[cluster_label, new_centroids, num_iter, positions] = k_means(X,num_clusters)\n",
    "print(\"Convergence in %i iteration(s)\" % num_iter)"
   ]
  },
  {
   "cell_type": "markdown",
   "metadata": {},
   "source": [
    "### Plotting\n",
    "\n",
    "With the following code you can plot the result of the clustering procedure.  \n",
    "\n",
    "Cluster centroids are displayed as red circles. Their positions across the various steps of the optimization are displayed as red lines. Data points are colored according to their cluster assignement."
   ]
  },
  {
   "cell_type": "code",
   "execution_count": 61,
   "metadata": {},
   "outputs": [
    {
     "data": {
      "text/plain": [
       "[<matplotlib.lines.Line2D at 0x7f8d389a33c8>]"
      ]
     },
     "execution_count": 61,
     "metadata": {},
     "output_type": "execute_result"
    },
    {
     "data": {
      "image/png": "[encoded data removed]",
      "text/plain": [
       "<Figure size 432x288 with 1 Axes>"
      ]
     },
     "metadata": {},
     "output_type": "display_data"
    }
   ],
   "source": [
    "_ = plt.scatter(X[:, 0], X[:, 1], c=cluster_label)\n",
    "_ = plt.scatter(new_centroids[:,0], new_centroids[:,1], marker='o', s=500, c='r', edgecolors='w', linewidths=2)\n",
    "\n",
    "plt.plot(np.array(positions)[:,0,0],np.array(positions)[:,0,1],'r',linewidth=3)\n",
    "plt.plot(np.array(positions)[:,1,0],np.array(positions)[:,1,1],'r',linewidth=3)\n",
    "plt.plot(np.array(positions)[:,2,0],np.array(positions)[:,2,1],'r',linewidth=3)"
   ]
  },
  {
   "cell_type": "markdown",
   "metadata": {
    "collapsed": true
   },
   "source": [
    "## Pen and Paper"
   ]
  },
  {
   "cell_type": "markdown",
   "metadata": {},
   "source": [
    "Consider a set P of points as shown below:  \n",
    "<img src=\"ex2.png\" width=\"400\">"
   ]
  },
  {
   "cell_type": "markdown",
   "metadata": {},
   "source": [
    "#### Question 2.1\n",
    "\n",
    "Recall that the DBSCAN algorithm classifies each data point into one of 3 types: core ,  border , and  noise . The classification is based on two parameters, a distance  r and a threshold  t . Set  r = 1 and  t = 3. What are the types of a, b, c in the figure, respectively?  "
   ]
  },
  {
   "cell_type": "markdown",
   "metadata": {},
   "source": [
    "#### Question 2.2\n",
    "Set  r  = 1 and   t  = 3, and consider the point set  P  in Question 2.  \n",
    "1) Are points  d and  e  connected? If so, show that there is a point  p that can\n",
    "reach both  d   and  e.  \n",
    "2) How about points  f  and  g ?  "
   ]
  },
  {
   "cell_type": "markdown",
   "metadata": {},
   "source": [
    "#### Question 2.3  \n",
    "Set  r  = 1 and  t  = 3. Show the output of DBSCAN on the point set  P in Question 2 (i.e., what are the points in each of the clusters returned?)."
   ]
  }
 ],
 "metadata": {
  "kernelspec": {
   "display_name": "Python 3",
   "language": "python",
   "name": "python3"
  },
  "language_info": {
   "codemirror_mode": {
    "name": "ipython",
    "version": 3
   },
   "file_extension": ".py",
   "mimetype": "text/x-python",
   "name": "python",
   "nbconvert_exporter": "python",
   "pygments_lexer": "ipython3",
   "version": "3.6.3"
  }
 },
 "nbformat": 4,
 "nbformat_minor": 2
}
