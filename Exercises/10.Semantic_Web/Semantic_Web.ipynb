{
 "cells": [
  {
   "cell_type": "markdown",
   "metadata": {},
   "source": [
    "# Exercise 10: Semantic Web"
   ]
  },
  {
   "cell_type": "markdown",
   "metadata": {},
   "source": [
    "## Task 1: Create a Knowledge Base\n",
    "\n",
    "Consider the following sentences:\n",
    "\n",
    "```Aphrodite and Eros are gods.```\n",
    "\n",
    "```Aphrodite is a parent of Eros.```\n",
    "\n",
    "```Aphrodite is beautiful.```\n",
    "\n",
    "```Aphrodite is happy.```"
   ]
  },
  {
   "cell_type": "markdown",
   "metadata": {},
   "source": [
    "#### 1) Formalize these sentences as RDF statements. Use a python dictionary to indicate the *subject*, *predicate* and *object* of a statement."
   ]
  },
  {
   "cell_type": "code",
   "execution_count": 44,
   "metadata": {},
   "outputs": [],
   "source": [
    "statements = []\n",
    "#statement template: {'s':'', 'p':'', 'o':''}\n",
    "statements.append({'s':'Aphrodite','p':'isa','o':'beautiful'})\n",
    "statements.append({'s':'Aphrodite','p':'isa','o':'happy'})\n",
    "statements.append({'s':'Aphrodite','p':'isa','o':'god'})\n",
    "statements.append({'s':'Eros','p':'isa','o':'god'})\n",
    "statements.append({'s':'Aphrodite','p':'isParentOf','o':'Eros'})"
   ]
  },
  {
   "cell_type": "markdown",
   "metadata": {},
   "source": [
    "#### 2) Specify which are the *classes*, the *instances* and the *properties* in the above statements.\n"
   ]
  },
  {
   "cell_type": "markdown",
   "metadata": {},
   "source": [
    "- Classes: god\n",
    "- Instances: Aphrodite,eros\n",
    "- Properties: beautiful,happy,parent"
   ]
  },
  {
   "cell_type": "markdown",
   "metadata": {},
   "source": [
    "#### 3) Pose the following query to your Knowledge Base and show the results.\n",
    "    Who is happy?"
   ]
  },
  {
   "cell_type": "code",
   "execution_count": 45,
   "metadata": {},
   "outputs": [
    {
     "name": "stdout",
     "output_type": "stream",
     "text": [
      "['Aphrodite']\n"
     ]
    }
   ],
   "source": [
    "def query():\n",
    "    results = []\n",
    "    rdf = {'s':'Who','p':'is','o':'happy'}\n",
    "    for statement in statements:\n",
    "        if rdf['o'] == statement['o'] and statement['p'] == 'isa':\n",
    "            results.append(statement['s'])\n",
    "    print(results)\n",
    "\n",
    "query()"
   ]
  },
  {
   "cell_type": "markdown",
   "metadata": {},
   "source": [
    "## Task 2: Derive new Knowledge\n",
    "\n",
    "Now consider the following inference rules:\n",
    "\n",
    "``` Every person is happy if one of his/her parents is successful. ```\n",
    "\n",
    "``` All happy persons are successful. ```"
   ]
  },
  {
   "cell_type": "markdown",
   "metadata": {},
   "source": [
    "#### 1) Transform and apply them to your Knowledge Base. Include the new statements that will be derived in the Knowledge Base."
   ]
  },
  {
   "cell_type": "code",
   "execution_count": 46,
   "metadata": {},
   "outputs": [],
   "source": [
    "def inference():\n",
    "    \n",
    "    new_statements = True\n",
    "    \n",
    "    while (new_statements):\n",
    "        new_statements = False\n",
    "        \n",
    "        for statement in statements:\n",
    "            if statement['o'] == 'happy' and statement['p'] == 'isa':\n",
    "                statements.append({'s':statement['s'],'p':statement['p'],'o':'successful'})\n",
    "            if statement['p'] == 'isParentOf':\n",
    "                # search for succesfful\n",
    "                query = {'s':statement['s'], 'p':'isa', 'o':'successful'}\n",
    "                check = query in statements\n",
    "                if (check):\n",
    "                    statements.append({'s':statement['o'],'p':'isa','o':'happy'})"
   ]
  },
  {
   "cell_type": "markdown",
   "metadata": {},
   "source": [
    "#### 2) Give an example of a rule that would bring incosistency in the Knowledge Base. "
   ]
  },
  {
   "cell_type": "markdown",
   "metadata": {},
   "source": [
    "..."
   ]
  },
  {
   "cell_type": "markdown",
   "metadata": {},
   "source": [
    "#### 3) Pose again the query from Question 3 of Task 1. Are you getting the same results?"
   ]
  },
  {
   "cell_type": "code",
   "execution_count": 47,
   "metadata": {},
   "outputs": [
    {
     "name": "stdout",
     "output_type": "stream",
     "text": [
      "['Aphrodite', 'Eros']\n"
     ]
    }
   ],
   "source": [
    "inference()\n",
    "query()"
   ]
  },
  {
   "cell_type": "markdown",
   "metadata": {},
   "source": [
    "Credits @ [Knowledge Technologies (PMS509)](http://cgi.di.uoa.gr/~pms509)"
   ]
  }
 ],
 "metadata": {
  "kernelspec": {
   "display_name": "Python 3",
   "language": "python",
   "name": "python3"
  },
  "language_info": {
   "codemirror_mode": {
    "name": "ipython",
    "version": 3
   },
   "file_extension": ".py",
   "mimetype": "text/x-python",
   "name": "python",
   "nbconvert_exporter": "python",
   "pygments_lexer": "ipython3",
   "version": "3.6.3"
  },
  "toc": {
   "colors": {
    "hover_highlight": "#DAA520",
    "navigate_num": "#000000",
    "navigate_text": "#333333",
    "running_highlight": "#FF0000",
    "selected_highlight": "#FFD700",
    "sidebar_border": "#EEEEEE",
    "wrapper_background": "#FFFFFF"
   },
   "moveMenuLeft": true,
   "nav_menu": {
    "height": "228px",
    "width": "252px"
   },
   "navigate_menu": true,
   "number_sections": true,
   "sideBar": true,
   "threshold": 4,
   "toc_cell": false,
   "toc_section_display": "block",
   "toc_window_display": false,
   "widenNotebook": false
  }
 },
 "nbformat": 4,
 "nbformat_minor": 1
}
