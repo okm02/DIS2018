{
 "cells": [
  {
   "cell_type": "markdown",
   "metadata": {},
   "source": [
    "# Exercise 11: Entity and Relation Extraction"
   ]
  },
  {
   "cell_type": "markdown",
   "metadata": {},
   "source": [
    "## Task 1: Relation extraction from Wikipedia articles\n",
    "\n",
    "Use Wikipedia to extract the relation `directedBy(Movie, Person)` by applying pattern based heuristics that utilize: *Part Of Speech Tagging*, *Named Entity Recognition* and *Regular Expressions*.\n",
    "\n",
    "#### Required Library: SpaCy\n",
    "- ```conda install -y spacy```\n",
    "- ```python -m spacy download en```"
   ]
  },
  {
   "cell_type": "code",
   "execution_count": 1,
   "metadata": {},
   "outputs": [],
   "source": [
    "import urllib.request, json, csv, re\n",
    "import spacy\n",
    "nlp = spacy.load('en')"
   ]
  },
  {
   "cell_type": "code",
   "execution_count": 2,
   "metadata": {},
   "outputs": [],
   "source": [
    "#read tsv with input movies\n",
    "def read_tsv():\n",
    "    movies=[]\n",
    "    with open('movies.tsv','r') as file:\n",
    "        tsv = csv.reader(file, delimiter='\\t')\n",
    "        next(tsv) #remove header\n",
    "        movies = [{'movie':line[0], 'director':line[1]} for line in tsv]\n",
    "    return movies\n",
    "\n",
    "#parse wikipedia page\n",
    "def parse_wikipedia(movie):\n",
    "    txt = ''\n",
    "    try:\n",
    "        with urllib.request.urlopen('https://en.wikipedia.org/w/api.php?format=json&action=query&prop=extracts&exintro=&explaintext=&titles='+movie) as url:\n",
    "            data = json.loads(url.read().decode())\n",
    "            txt = next (iter (data['query']['pages'].values()))['extract']\n",
    "    except:\n",
    "        pass\n",
    "    return txt"
   ]
  },
  {
   "cell_type": "markdown",
   "metadata": {},
   "source": [
    "#### 1) Parse the raw text of a Wikipedia movie page and extract named (PER) entities."
   ]
  },
  {
   "cell_type": "code",
   "execution_count": 37,
   "metadata": {},
   "outputs": [],
   "source": [
    "def find_PER_entities(txt):\n",
    "    split = nlp(txt)\n",
    "    persons = [ent.text for ent in split.ents if ent.label_ == 'PERSON']\n",
    "    return persons"
   ]
  },
  {
   "cell_type": "markdown",
   "metadata": {},
   "source": [
    "#### 2) Given the raw text of a Wikipedia movie page and the extracted PER entities, find the director."
   ]
  },
  {
   "cell_type": "code",
   "execution_count": 38,
   "metadata": {},
   "outputs": [],
   "source": [
    "import re\n",
    "def find_matches(file_text, regexp_string):\n",
    "    #Compile a regular expression \n",
    "    regexp = re.compile(regexp_string)\n",
    "    \n",
    "    #Find all matches with the given regular expression\n",
    "    matches = re.findall(regexp, file_text)\n",
    "    \n",
    "    return matches"
   ]
  },
  {
   "cell_type": "code",
   "execution_count": 63,
   "metadata": {},
   "outputs": [],
   "source": [
    "def find_director(txt, persons):\n",
    "    director = ''\n",
    "    if len(persons)>0:\n",
    "        for i in range(0,len(persons)):\n",
    "            temp = find_matches(txt, \"[a-z]+ directed by \" + persons[i])\n",
    "            if temp!=[]:\n",
    "                director = persons[i]\n",
    "    \n",
    "    return director"
   ]
  },
  {
   "cell_type": "code",
   "execution_count": 70,
   "metadata": {
    "scrolled": true
   },
   "outputs": [],
   "source": [
    "movies = read_tsv()\n",
    "\n",
    "statements=[]\n",
    "for m in movies:\n",
    "\n",
    "        txt = parse_wikipedia(m['movie'])\n",
    "        persons = find_PER_entities(txt)\n",
    "        try:\n",
    "            director = find_director(txt, persons)\n",
    "            if director != '':\n",
    "                statements.append(m['movie'] + ' is directed by ' + director + '.')\n",
    "        except:\n",
    "            continue"
   ]
  },
  {
   "cell_type": "markdown",
   "metadata": {},
   "source": [
    "#### 3) Compute the precision and recall based on the given ground truth (column Director from tsv file) and show examples of statements that are extracted."
   ]
  },
  {
   "cell_type": "code",
   "execution_count": 97,
   "metadata": {},
   "outputs": [
    {
     "name": "stdout",
     "output_type": "stream",
     "text": [
      "Precision: 0.8262910798122066\n",
      "Recall: 0.704\n",
      "***Sample Statements***\n",
      "13_Assassins_(2010_film) is directed by Takashi Miike.\n",
      "14_Blades is directed by Daniel Lee.\n",
      "22_Bullets is directed by Richard Berry.\n",
      "The_A-Team_(film) is directed by Joe Carnahan.\n",
      "Alien_vs_Ninja is directed by Seiji Chiba.\n"
     ]
    }
   ],
   "source": [
    "# compute precision and recall\n",
    "missing = len(movies) - len(statements)\n",
    "matches = 0\n",
    "mistakes = 0\n",
    "for i in range(0,len(statements)):\n",
    "    dp = statements[i].split(\" \")\n",
    "    movie = dp[0]\n",
    "    split_ind = dp.index('by')\n",
    "    director = dp[split_ind+1 :]\n",
    "    name = (' '.join(director)).split('.')[0]\n",
    "    for i in range(0,len(movies)):\n",
    "        if movies[i]['movie'] == movie:\n",
    "            if movies[i]['director'] == name:\n",
    "                matches = matches + 1\n",
    "            else:\n",
    "                mistakes = mistakes + 1\n",
    "                \n",
    "\n",
    "precision = matches / (matches + mistakes)\n",
    "recall =  matches / (matches + missing)\n",
    "print ('Precision:',precision)\n",
    "print ('Recall:',recall)\n",
    "\n",
    "\n",
    "print('***Sample Statements***')\n",
    "for s in statements[:5]:\n",
    "    print (s)"
   ]
  },
  {
   "cell_type": "markdown",
   "metadata": {},
   "source": [
    "## Task 2: Named Entity Recognition using Hidden Markov Model\n",
    "\n",
    "\n",
    "Define a Hidden Markov Model (HMM) that recognizes Person (*PER*) entities.\n",
    "Particularly, your model must be able to recognize pairs of the form (*firstname lastname*) as *PER* entities.\n",
    "Using the given sentences as training and test set:"
   ]
  },
  {
   "cell_type": "code",
   "execution_count": 98,
   "metadata": {},
   "outputs": [],
   "source": [
    "training_set=['The best blues singer was Bobby Bland while Ray Charles pioneered soul music .', \\\n",
    "              'Bobby Bland was just a singer whereas Ray Charles was a pianist , songwriter and singer .' \\\n",
    "              'None of them lived in Chicago .']\n",
    "\n",
    "test_set=['Ray Charles was born in 1930 .', \\\n",
    "          'Bobby Bland was born the same year as Ray Charles .', \\\n",
    "          'Muddy Waters is the father of Chicago Blues .']"
   ]
  },
  {
   "cell_type": "markdown",
   "metadata": {},
   "source": [
    "#### 1) Annotate your training set with the labels I (for PER entities) and O (for non PER entities).\n",
    "\t\n",
    "    *Hint*: Represent the sentences as sequences of bigrams, and label each bigram.\n",
    "\tOnly bigrams that contain pairs of the form (*firstname lastname*) are considered as *PER* entities."
   ]
  },
  {
   "cell_type": "code",
   "execution_count": 111,
   "metadata": {},
   "outputs": [
    {
     "name": "stdout",
     "output_type": "stream",
     "text": [
      "[['O', 'O', 'O', 'O', 'O', 'I', 'O', 'O', 'I', 'O', 'O', 'O', 'O'], ['I', 'O', 'O', 'O', 'O', 'O', 'O', 'I', 'O', 'O', 'O', 'O', 'O', 'O', 'O', 'O', 'O', 'O', 'O', 'O', 'O', 'O']]\n"
     ]
    },
    {
     "data": {
      "text/plain": [
       "\"\\nbigrams = getBigrams(training_set)\\nprint(bigrams)\\n#Annotation\\nPER = ['Bobby Bland', 'Ray Charles']\\nannotations = []\\nfor b in bigrams:\\n    check = b in PER\\n    if(check):\\n        annotations.append('I')\\n    else:\\n        annotations.append('O')\\nprint('Annotation\\n', annotations,'\\n')\\n\""
      ]
     },
     "execution_count": 111,
     "metadata": {},
     "output_type": "execute_result"
    }
   ],
   "source": [
    "#Bigram Representation\n",
    "def getBigrams(sents):\n",
    "    return [b[0]+' '+b[1] for l in sents for b in zip(l.split(' ')[:-1], l.split(' ')[1:])]\n",
    "\n",
    "def getBigrams2(sentence):\n",
    "    return [b[0]+' '+b[1] for b in zip(sentence.split(' ')[:-1], sentence.split(' ')[1:])]\n",
    "\n",
    "annotations_per_sentence = []\n",
    "PER = ['Bobby Bland', 'Ray Charles']\n",
    "for sent in training_set:\n",
    "    bigrams = getBigrams2(sent)\n",
    "    annotations = []\n",
    "    for b in bigrams:\n",
    "        check = b in PER\n",
    "        if(check):\n",
    "            annotations.append('I')\n",
    "        else:\n",
    "            annotations.append('O')\n",
    "    annotations_per_sentence.append(annotations)\n",
    "    \n",
    "\n",
    "print(annotations_per_sentence)\n",
    "\n",
    "'''\n",
    "bigrams = getBigrams(training_set)\n",
    "print(bigrams)\n",
    "#Annotation\n",
    "PER = ['Bobby Bland', 'Ray Charles']\n",
    "annotations = []\n",
    "for b in bigrams:\n",
    "    check = b in PER\n",
    "    if(check):\n",
    "        annotations.append('I')\n",
    "    else:\n",
    "        annotations.append('O')\n",
    "print('Annotation\\n', annotations,'\\n')\n",
    "'''"
   ]
  },
  {
   "cell_type": "markdown",
   "metadata": {},
   "source": [
    "#### 2) Compute the transition and emission probabilities for the HMM (use smoothing parameter $\\lambda$=0.5).\n",
    "\n",
    "    *Hint*: For the emission probabilities you can utilize the morphology of the words that constitute a bigram (e.g., you can count their uppercase first characters)."
   ]
  },
  {
   "cell_type": "code",
   "execution_count": 112,
   "metadata": {},
   "outputs": [
    {
     "name": "stdout",
     "output_type": "stream",
     "text": [
      "Transition Probabilities\n",
      " {'P(I|start)': 0.5, 'P(O|start)': 0.5, 'P(O|O)': 0.7428571428571429, 'P(O|I)': 0.11428571428571428, 'P(I|O)': 0.08571428571428572, 'P(I|I)': 0.0} \n",
      "\n"
     ]
    },
    {
     "data": {
      "text/plain": [
       "\"\\n#Emission Probabilities\\nemission_prob={}\\n\\n        \\ndefault_emission = ...\\n\\nemission_prob['P(2_upper|O)'] = ...\\nemission_prob['P(2_upper|I)'] = ...\\nemission_prob['P(1_upper|O)'] = ...\\nemission_prob['P(1_upper|I)'] = ...\\nemission_prob['P(0_upper|O)'] = ...\\nemission_prob['P(0_upper|I)'] = ...\\n\\nprint('Emission Probabilities\\n', emission_prob, '\\n')\\n\""
      ]
     },
     "execution_count": 112,
     "metadata": {},
     "output_type": "execute_result"
    }
   ],
   "source": [
    "lambda_ = 0.5\n",
    "\n",
    "#Transition Probabilities\n",
    "transition_prob={}\n",
    "\n",
    "\n",
    "#Prior\n",
    "total_sentences =len(annotations_per_sentence)\n",
    "Is_init = 0\n",
    "Os_init = 0\n",
    "for i in range(0,total_sentences):\n",
    "    first_element = annotations_per_sentence[i][0]\n",
    "    if first_element == 'I':\n",
    "        Is_init +=1\n",
    "    elif first_element == 'O':\n",
    "        Os_init +=1\n",
    "\n",
    "transition_prob['P(I|start)'] = Is_init/total_sentences\n",
    "transition_prob['P(O|start)'] = Os_init/total_sentences\n",
    "\n",
    "total = 0\n",
    "O_given_O = 0\n",
    "O_given_I = 0\n",
    "I_given_O = 0\n",
    "I_given_I = 0\n",
    "for sentence in annotations_per_sentence:\n",
    "    for j in range(1,len(sentence)):\n",
    "        if sentence[j] == 'O' and sentence[j-1] == 'O':\n",
    "            O_given_O+=1\n",
    "        elif sentence[j] == 'O' and sentence[j-1] == 'I':\n",
    "            O_given_I +=1\n",
    "        elif sentence[j] == 'I' and sentence[j-1] == 'O':\n",
    "            I_given_O += 1\n",
    "        elif sentence[j] == 'I' and sentence[j-1] == 'I':\n",
    "            I_given_I +=1\n",
    "            \n",
    "    total += len(sentence)       \n",
    "        \n",
    "transition_prob['P(O|O)'] = O_given_O/total\n",
    "transition_prob['P(O|I)'] = O_given_I/total\n",
    "transition_prob['P(I|O)'] = I_given_O/total\n",
    "transition_prob['P(I|I)'] = I_given_I/total\n",
    "\n",
    "print('Transition Probabilities\\n',transition_prob, '\\n')\n",
    "\n",
    "\n",
    "#Emission Probabilities\n",
    "emission_prob={}\n",
    "\n",
    "        \n",
    "default_emission = 0.01\n",
    "\n",
    "emission_prob['P(2_upper|O)'] = ...\n",
    "emission_prob['P(2_upper|I)'] = ...\n",
    "emission_prob['P(1_upper|O)'] = ...\n",
    "emission_prob['P(1_upper|I)'] = ...\n",
    "emission_prob['P(0_upper|O)'] = ...\n",
    "emission_prob['P(0_upper|I)'] = ...\n",
    "\n",
    "print('Emission Probabilities\\n', emission_prob, '\\n')"
   ]
  },
  {
   "cell_type": "markdown",
   "metadata": {},
   "source": [
    "#### 3) Predict the labels of the test set and compute the precision and the recall of your model."
   ]
  },
  {
   "cell_type": "code",
   "execution_count": 10,
   "metadata": {},
   "outputs": [
    {
     "name": "stdout",
     "output_type": "stream",
     "text": [
      "Predicted Entities\n",
      " [] \n",
      "\n"
     ]
    }
   ],
   "source": [
    "#Prediction\n",
    "bigrams = getBigrams(test_set)\n",
    "entities=[]\n",
    "prev_state='start'\n",
    "for b in bigrams:\n",
    "    I_prob = ...\n",
    "    O_prob = ...\n",
    "    \n",
    "    if ...:\n",
    "        prev_state = 'O'\n",
    "    else:\n",
    "        entities.append(b)\n",
    "        prev_state = 'I'\n",
    "\n",
    "print('Predicted Entities\\n', entities, '\\n')"
   ]
  },
  {
   "cell_type": "markdown",
   "metadata": {},
   "source": [
    "Precision is *...%* while recall is *...%*. "
   ]
  },
  {
   "cell_type": "markdown",
   "metadata": {},
   "source": [
    "#### 4) Comment on how you can further improve this model."
   ]
  },
  {
   "cell_type": "markdown",
   "metadata": {},
   "source": [
    "..."
   ]
  }
 ],
 "metadata": {
  "kernelspec": {
   "display_name": "Python 3",
   "language": "python",
   "name": "python3"
  },
  "language_info": {
   "codemirror_mode": {
    "name": "ipython",
    "version": 3
   },
   "file_extension": ".py",
   "mimetype": "text/x-python",
   "name": "python",
   "nbconvert_exporter": "python",
   "pygments_lexer": "ipython3",
   "version": "3.6.3"
  },
  "toc": {
   "colors": {
    "hover_highlight": "#DAA520",
    "navigate_num": "#000000",
    "navigate_text": "#333333",
    "running_highlight": "#FF0000",
    "selected_highlight": "#FFD700",
    "sidebar_border": "#EEEEEE",
    "wrapper_background": "#FFFFFF"
   },
   "moveMenuLeft": true,
   "nav_menu": {
    "height": "228px",
    "width": "252px"
   },
   "navigate_menu": true,
   "number_sections": true,
   "sideBar": true,
   "threshold": 4,
   "toc_cell": false,
   "toc_section_display": "block",
   "toc_window_display": false,
   "widenNotebook": false
  }
 },
 "nbformat": 4,
 "nbformat_minor": 1
}
